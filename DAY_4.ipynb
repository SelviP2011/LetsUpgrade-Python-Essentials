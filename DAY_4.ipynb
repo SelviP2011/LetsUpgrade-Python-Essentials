{
 "cells": [
  {
   "cell_type": "markdown",
   "metadata": {},
   "source": [
    "  #                             Day-4 :        ARMSTRONG NUMBER"
   ]
  },
  {
   "cell_type": "code",
   "execution_count": 1,
   "metadata": {},
   "outputs": [],
   "source": [
    "#Armstrong number is a number which is equal to sum of cubes of all digit in particular number."
   ]
  },
  {
   "cell_type": "code",
   "execution_count": 4,
   "metadata": {},
   "outputs": [
    {
     "name": "stdout",
     "output_type": "stream",
     "text": [
      "ENTER A NUM: 371\n",
      "371  is an ARMSTRONG NUMBER\n"
     ]
    }
   ],
   "source": [
    "n=int(input(\"ENTER A NUM: \"))\n",
    "a=n;s=0\n",
    "while n>0:\n",
    "    s+=((n%10)**3)\n",
    "    n=n//10\n",
    "if a==s:print(s, \" is an ARMSTRONG NUMBER\")\n",
    "else:print(s,\" is not an ARMSTRONG NUMBER\")"
   ]
  },
  {
   "cell_type": "code",
   "execution_count": 5,
   "metadata": {},
   "outputs": [
    {
     "name": "stdout",
     "output_type": "stream",
     "text": [
      "ENTER A NUM: 21\n",
      "9  is not an ARMSTRONG NUMBER\n"
     ]
    }
   ],
   "source": [
    "n=int(input(\"ENTER A NUM: \"))\n",
    "a=n;s=0\n",
    "while n>0:\n",
    "    s+=((n%10)**3)\n",
    "    n=n//10\n",
    "if a==s:print(s, \" is an ARMSTRONG NUMBER\")\n",
    "else:print(s,\" is not an ARMSTRONG NUMBER\")"
   ]
  },
  {
   "cell_type": "code",
   "execution_count": 6,
   "metadata": {},
   "outputs": [
    {
     "name": "stdout",
     "output_type": "stream",
     "text": [
      "ENTER A NUM: 1\n",
      "1  is an ARMSTRONG NUMBER\n"
     ]
    }
   ],
   "source": [
    "n=int(input(\"ENTER A NUM: \"))\n",
    "a=n;s=0\n",
    "while n>0:\n",
    "    s+=((n%10)**3)\n",
    "    n=n//10\n",
    "if a==s:print(s, \" is an ARMSTRONG NUMBER\")\n",
    "else:print(s,\" is not an ARMSTRONG NUMBER\")"
   ]
  }
 ],
 "metadata": {
  "kernelspec": {
   "display_name": "Python 3",
   "language": "python",
   "name": "python3"
  },
  "language_info": {
   "codemirror_mode": {
    "name": "ipython",
    "version": 3
   },
   "file_extension": ".py",
   "mimetype": "text/x-python",
   "name": "python",
   "nbconvert_exporter": "python",
   "pygments_lexer": "ipython3",
   "version": "3.7.7"
  }
 },
 "nbformat": 4,
 "nbformat_minor": 4
}
