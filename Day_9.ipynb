{
 "cells": [
  {
   "cell_type": "markdown",
   "metadata": {},
   "source": [
    "# Day 9 ASSIGNMENTS"
   ]
  },
  {
   "cell_type": "markdown",
   "metadata": {},
   "source": [
    "# Problem 1 : Identify prime number or not using pylint and unittest"
   ]
  },
  {
   "cell_type": "markdown",
   "metadata": {},
   "source": [
    "# PYLINT"
   ]
  },
  {
   "cell_type": "code",
   "execution_count": 10,
   "metadata": {},
   "outputs": [
    {
     "name": "stdout",
     "output_type": "stream",
     "text": [
      "Overwriting assess1.py\n"
     ]
    }
   ],
   "source": [
    "%%writefile assess1.py\n",
    "'''this is a program to find the given number is prime or not '''\n",
    "\n",
    "def prime(num):\n",
    "    ''' this is a fn to check the given num is prime numbers'''\n",
    "    flag = False\n",
    "    for i in range(2, num):\n",
    "        if (num%i) == 0:\n",
    "            flag = True\n",
    "            break\n",
    "    return flag\n",
    "\n",
    "NUM = int(input())\n",
    "if prime(NUM) == 1:\n",
    "    print(\"This is the composite number\")\n",
    "else:\n",
    "    print(\"This is the prime number\")"
   ]
  },
  {
   "cell_type": "code",
   "execution_count": 18,
   "metadata": {},
   "outputs": [
    {
     "name": "stdout",
     "output_type": "stream",
     "text": [
      "\n",
      "--------------------------------------------------------------------\n",
      "\n",
      "Your code has been rated at 10.00/10 (previous run: 10.00/10, +0.00)\n",
      "\n",
      "\n",
      "\n"
     ]
    }
   ],
   "source": [
    "! pylint \"assess1.py\""
   ]
  },
  {
   "cell_type": "markdown",
   "metadata": {},
   "source": [
    "# ------------------------------------------------------------"
   ]
  },
  {
   "cell_type": "markdown",
   "metadata": {},
   "source": [
    "# UNITTEST"
   ]
  },
  {
   "cell_type": "code",
   "execution_count": 1,
   "metadata": {},
   "outputs": [
    {
     "name": "stdout",
     "output_type": "stream",
     "text": [
      "Overwriting primer.py\n"
     ]
    }
   ],
   "source": [
    "%%writefile primer.py\n",
    "\n",
    "def prime(num):\n",
    "    for i in range(2, num):\n",
    "        if (num%i) == 0:\n",
    "            return False\n",
    "    return True"
   ]
  },
  {
   "cell_type": "code",
   "execution_count": 2,
   "metadata": {},
   "outputs": [
    {
     "data": {
      "text/plain": [
       "True"
      ]
     },
     "execution_count": 2,
     "metadata": {},
     "output_type": "execute_result"
    }
   ],
   "source": [
    "import primer\n",
    "primer.prime(11)"
   ]
  },
  {
   "cell_type": "code",
   "execution_count": 5,
   "metadata": {},
   "outputs": [
    {
     "name": "stdout",
     "output_type": "stream",
     "text": [
      "Overwriting unit.py\n"
     ]
    }
   ],
   "source": [
    "%%writefile unit.py\n",
    "\n",
    "import unittest\n",
    "import primer\n",
    "\n",
    "class primeUnitCheck(unittest.TestCase):\n",
    "    def testNumber(self):\n",
    "        num = 11\n",
    "        res=primer.prime(num)\n",
    "        self.assertEquals(res,True)\n",
    "if __name__ == \"__main__\":\n",
    "    unittest.main()"
   ]
  },
  {
   "cell_type": "code",
   "execution_count": 6,
   "metadata": {},
   "outputs": [
    {
     "name": "stderr",
     "output_type": "stream",
     "text": [
      "unit.py:9: DeprecationWarning: Please use assertEqual instead.\n",
      "  self.assertEquals(res,True)\n",
      ".\n",
      "----------------------------------------------------------------------\n",
      "Ran 1 test in 0.001s\n",
      "\n",
      "OK\n"
     ]
    }
   ],
   "source": [
    "! python unit.py"
   ]
  },
  {
   "cell_type": "code",
   "execution_count": 7,
   "metadata": {},
   "outputs": [
    {
     "name": "stdout",
     "output_type": "stream",
     "text": [
      "Overwriting unit.py\n"
     ]
    }
   ],
   "source": [
    "%%writefile unit.py\n",
    "\n",
    "import unittest\n",
    "import primer\n",
    "\n",
    "class primeUnitCheck(unittest.TestCase):\n",
    "    def testNumber(self):\n",
    "        num = 15\n",
    "        res=primer.prime(num)\n",
    "        self.assertEquals(res,False)\n",
    "if __name__ == \"__main__\":\n",
    "    unittest.main()"
   ]
  },
  {
   "cell_type": "code",
   "execution_count": 8,
   "metadata": {},
   "outputs": [
    {
     "name": "stderr",
     "output_type": "stream",
     "text": [
      "unit.py:9: DeprecationWarning: Please use assertEqual instead.\n",
      "  self.assertEquals(res,False)\n",
      ".\n",
      "----------------------------------------------------------------------\n",
      "Ran 1 test in 0.001s\n",
      "\n",
      "OK\n"
     ]
    }
   ],
   "source": [
    "! python unit.py"
   ]
  },
  {
   "cell_type": "markdown",
   "metadata": {},
   "source": [
    "# ------------------------------------------------------------------------"
   ]
  },
  {
   "cell_type": "markdown",
   "metadata": {},
   "source": [
    "# Problem 2: Generators"
   ]
  },
  {
   "cell_type": "markdown",
   "metadata": {},
   "source": [
    "# Yielding armstrong numbers between 1 to 1000"
   ]
  },
  {
   "cell_type": "code",
   "execution_count": 15,
   "metadata": {},
   "outputs": [],
   "source": [
    "def aNum(a):\n",
    "    l=len(str(a))\n",
    "    g=[int(i)**l for i in str(a)]\n",
    "    if sum(g)==a:\n",
    "        return True\n",
    "    else:\n",
    "        return False"
   ]
  },
  {
   "cell_type": "code",
   "execution_count": 16,
   "metadata": {},
   "outputs": [],
   "source": [
    "def armStrongNumber(lst):\n",
    "    for i in lst:\n",
    "        if aNum(i):\n",
    "            yield i"
   ]
  },
  {
   "cell_type": "code",
   "execution_count": 17,
   "metadata": {},
   "outputs": [
    {
     "name": "stdout",
     "output_type": "stream",
     "text": [
      "Armstrong Numbers between 1 to 100 are  1 2 3 4 5 6 7 8 9 153 370 371 407\n"
     ]
    }
   ],
   "source": [
    "lst=list(range(1,1000))\n",
    "print(\"Armstrong Numbers between 1 to 100 are \",*list(armStrongNumber(lst)))"
   ]
  },
  {
   "cell_type": "markdown",
   "metadata": {},
   "source": [
    "# ------------------------------------------------------------"
   ]
  }
 ],
 "metadata": {
  "kernelspec": {
   "display_name": "Python 3",
   "language": "python",
   "name": "python3"
  },
  "language_info": {
   "codemirror_mode": {
    "name": "ipython",
    "version": 3
   },
   "file_extension": ".py",
   "mimetype": "text/x-python",
   "name": "python",
   "nbconvert_exporter": "python",
   "pygments_lexer": "ipython3",
   "version": "3.7.7"
  }
 },
 "nbformat": 4,
 "nbformat_minor": 4
}
