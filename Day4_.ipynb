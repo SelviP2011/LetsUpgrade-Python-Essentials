{
 "cells": [
  {
   "cell_type": "markdown",
   "metadata": {},
   "source": [
    "# Day 4 : ARMSTRONG NUMBER"
   ]
  },
  {
   "cell_type": "code",
   "execution_count": 1,
   "metadata": {},
   "outputs": [
    {
     "name": "stdout",
     "output_type": "stream",
     "text": [
      "ENTER A NUM: 153\n",
      "153  is an ARMSTRONG NUMBER\n"
     ]
    }
   ],
   "source": [
    "#general\n",
    "n=int(input(\"ENTER A NUM: \"))\n",
    "a=n;s=0\n",
    "while n>0:\n",
    "    s+=((n%10)**len(str(a)))\n",
    "    n=n//10\n",
    "if a==s:print(s, \" is an ARMSTRONG NUMBER\")\n",
    "else:print(s,\" is not an ARMSTRONG NUMBER\")"
   ]
  },
  {
   "cell_type": "code",
   "execution_count": null,
   "metadata": {},
   "outputs": [
    {
     "name": "stdout",
     "output_type": "stream",
     "text": [
      "1741725  is an ARMSTRONG NUMBER\n"
     ]
    }
   ],
   "source": [
    "#armstrong number in range of (1042000,702648265)\n",
    "for i in range(1042000,702648265):\n",
    "    k=[int(j)**len(str(i)) for j in str(i)]\n",
    "    if sum(k)==i:print(i, \" is an ARMSTRONG NUMBER\");quit()\n",
    "print(\"No ARMSTRONG NUMBER\")"
   ]
  },
  {
   "cell_type": "markdown",
   "metadata": {},
   "source": [
    "# ------------------------------------------------------------"
   ]
  }
 ],
 "metadata": {
  "kernelspec": {
   "display_name": "Python 3",
   "language": "python",
   "name": "python3"
  },
  "language_info": {
   "codemirror_mode": {
    "name": "ipython",
    "version": 3
   },
   "file_extension": ".py",
   "mimetype": "text/x-python",
   "name": "python",
   "nbconvert_exporter": "python",
   "pygments_lexer": "ipython3",
   "version": "3.7.7"
  }
 },
 "nbformat": 4,
 "nbformat_minor": 4
}
